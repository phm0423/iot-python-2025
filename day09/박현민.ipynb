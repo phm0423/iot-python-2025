{
 "cells": [
  {
   "cell_type": "markdown",
   "metadata": {},
   "source": [
    "## 1"
   ]
  },
  {
   "cell_type": "code",
   "execution_count": 1,
   "metadata": {},
   "outputs": [
    {
     "name": "stdout",
     "output_type": "stream",
     "text": [
      "원의 넓이는:  28.274328\n"
     ]
    }
   ],
   "source": [
    "# 1번 문제\n",
    "# 반지름 값을 입력하여 원의 넓이 출력하기\n",
    "\n",
    "r = int(input('반지름 값을 입력하세요: '))\n",
    "circleExtent =  r * r * 3.141592\n",
    "\n",
    "print('원의 넓이는: ', circleExtent)"
   ]
  },
  {
   "cell_type": "markdown",
   "metadata": {},
   "source": [
    "## 2"
   ]
  },
  {
   "cell_type": "code",
   "execution_count": 9,
   "metadata": {},
   "outputs": [
    {
     "name": "stdout",
     "output_type": "stream",
     "text": [
      "http://www.google.com\n"
     ]
    }
   ],
   "source": [
    "# 2번 문제\n",
    "# URL 값 출력\n",
    "\n",
    "\n",
    "url = input('영문사이트명 입력: ')\n",
    "def get_url():\n",
    "    print(f'http://www.{url}.com')\n",
    "\n",
    "get_url()\n"
   ]
  },
  {
   "cell_type": "markdown",
   "metadata": {},
   "source": [
    "## 3"
   ]
  },
  {
   "cell_type": "code",
   "execution_count": 12,
   "metadata": {},
   "outputs": [
    {
     "name": "stdout",
     "output_type": "stream",
     "text": [
      "2단 시작\n",
      "2 4 6 8 10 12 14 16 18 "
     ]
    }
   ],
   "source": [
    "# 3번 문제\n",
    "# 입력한 단수의 구구단 결과 출력\n",
    "\n",
    "x = int(input('단수를 입력하시오: '))\n",
    "print(f'{x}단 시작')\n",
    "for y in range(1, 9 + 1):\n",
    "    if y == 9 + 1: break\n",
    "    \n",
    "    print(f'{x*y}', end=' ')"
   ]
  },
  {
   "cell_type": "markdown",
   "metadata": {},
   "source": [
    "## 4"
   ]
  },
  {
   "cell_type": "code",
   "execution_count": 13,
   "metadata": {},
   "outputs": [
    {
     "name": "stdout",
     "output_type": "stream",
     "text": [
      "3 2 1 "
     ]
    }
   ],
   "source": [
    "# 4번 문제\n",
    "# 입력한 수 거꾸로 출력\n",
    "\n",
    "numBer=(input('숫자입력: '))\n",
    "listNumber = numBer.split(' ')\n",
    "listNumber.reverse()\n",
    "\n",
    "i = len(listNumber) + 1\n",
    "\n",
    "while i >= 2: \n",
    "    i -= 1\n",
    "    print(listNumber[-i], end=' ')\n",
    "\n"
   ]
  },
  {
   "cell_type": "markdown",
   "metadata": {},
   "source": [
    "## 5"
   ]
  },
  {
   "cell_type": "code",
   "execution_count": 15,
   "metadata": {},
   "outputs": [
    {
     "name": "stdout",
     "output_type": "stream",
     "text": [
      "현민의 전화번호는 010-4222-5397이고, 제조사는 Samsung입니다.\n",
      "전체 정보\n",
      "현민\n",
      "010-4222-5397\n",
      "Samsung\n"
     ]
    }
   ],
   "source": [
    "# 5번 문제\n",
    "# 클래스, 객체 생성 및 멤버변수 만들기\n",
    "\n",
    "class SmartPhone:\n",
    "    \n",
    "    def __init__(self, phoneOwner, phoneNumber, company):\n",
    "        self.phoneOwner = phoneOwner\n",
    "        self.phoneNunber = phoneNumber\n",
    "        self.company = company\n",
    "\n",
    "    def __str__(self):\n",
    "        retStr = f'{self.phoneOwner}\\n{self.phoneNunber}\\n{self.company}'\n",
    "        return retStr\n",
    "    \n",
    "myPhone = SmartPhone('현민', '010-4222-5397', 'Samsung')\n",
    "print(f'{myPhone.phoneOwner}의 전화번호는 {myPhone.phoneNunber}이고, 제조사는 {myPhone.company}입니다.')\n",
    "print('전체 정보')\n",
    "print(myPhone)"
   ]
  }
 ],
 "metadata": {
  "kernelspec": {
   "display_name": "Python 3",
   "language": "python",
   "name": "python3"
  },
  "language_info": {
   "codemirror_mode": {
    "name": "ipython",
    "version": 3
   },
   "file_extension": ".py",
   "mimetype": "text/x-python",
   "name": "python",
   "nbconvert_exporter": "python",
   "pygments_lexer": "ipython3",
   "version": "3.11.9"
  }
 },
 "nbformat": 4,
 "nbformat_minor": 2
}
